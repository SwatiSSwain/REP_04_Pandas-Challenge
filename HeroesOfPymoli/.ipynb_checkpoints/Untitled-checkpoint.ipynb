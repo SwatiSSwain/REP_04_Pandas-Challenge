{
 "cells": [
  {
   "cell_type": "code",
   "execution_count": 1,
   "metadata": {},
   "outputs": [],
   "source": [
    "# Dependencies and Setup\n",
    "import pandas as pd\n",
    "import numpy as np\n",
    "\n",
    "# File to Load (Remember to Change These)\n",
    "file_to_load = \"Resources/purchase_data.csv\"\n",
    "\n",
    "# Read Purchasing File and store into Pandas data frame\n",
    "purchase_data = pd.read_csv(file_to_load)\n",
    "#purchase_date.head()"
   ]
  },
  {
   "cell_type": "code",
   "execution_count": 2,
   "metadata": {},
   "outputs": [
    {
     "data": {
      "text/html": [
       "<div>\n",
       "<style scoped>\n",
       "    .dataframe tbody tr th:only-of-type {\n",
       "        vertical-align: middle;\n",
       "    }\n",
       "\n",
       "    .dataframe tbody tr th {\n",
       "        vertical-align: top;\n",
       "    }\n",
       "\n",
       "    .dataframe thead th {\n",
       "        text-align: right;\n",
       "    }\n",
       "</style>\n",
       "<table border=\"1\" class=\"dataframe\">\n",
       "  <thead>\n",
       "    <tr style=\"text-align: right;\">\n",
       "      <th></th>\n",
       "      <th>Total Players</th>\n",
       "    </tr>\n",
       "  </thead>\n",
       "  <tbody>\n",
       "    <tr>\n",
       "      <td>0</td>\n",
       "      <td>576</td>\n",
       "    </tr>\n",
       "  </tbody>\n",
       "</table>\n",
       "</div>"
      ],
      "text/plain": [
       "   Total Players\n",
       "0            576"
      ]
     },
     "execution_count": 2,
     "metadata": {},
     "output_type": "execute_result"
    }
   ],
   "source": [
    "# Use len/value count on player ID to find unique palyers \n",
    "players_count = len(purchase_data[\"SN\"].value_counts())\n",
    "\n",
    "# Create a data frame with total players named player count\n",
    "total_players_df = pd.DataFrame({\"Total Players\":[players_count]})\n",
    "total_players_df"
   ]
  },
  {
   "cell_type": "code",
   "execution_count": 3,
   "metadata": {},
   "outputs": [
    {
     "data": {
      "text/html": [
       "<style  type=\"text/css\" >\n",
       "</style><table id=\"T_cd7b696c_763b_11ea_a676_7cb27dd0d832\" ><thead>    <tr>        <th class=\"blank level0\" ></th>        <th class=\"col_heading level0 col0\" >Number of Unique Items</th>        <th class=\"col_heading level0 col1\" >Average Price</th>        <th class=\"col_heading level0 col2\" >Number of Purchases</th>        <th class=\"col_heading level0 col3\" >Total Revenue</th>    </tr></thead><tbody>\n",
       "                <tr>\n",
       "                        <th id=\"T_cd7b696c_763b_11ea_a676_7cb27dd0d832level0_row0\" class=\"row_heading level0 row0\" >0</th>\n",
       "                        <td id=\"T_cd7b696c_763b_11ea_a676_7cb27dd0d832row0_col0\" class=\"data row0 col0\" >179</td>\n",
       "                        <td id=\"T_cd7b696c_763b_11ea_a676_7cb27dd0d832row0_col1\" class=\"data row0 col1\" >$3.05</td>\n",
       "                        <td id=\"T_cd7b696c_763b_11ea_a676_7cb27dd0d832row0_col2\" class=\"data row0 col2\" >780</td>\n",
       "                        <td id=\"T_cd7b696c_763b_11ea_a676_7cb27dd0d832row0_col3\" class=\"data row0 col3\" >$2,379.77</td>\n",
       "            </tr>\n",
       "    </tbody></table>"
      ],
      "text/plain": [
       "<pandas.io.formats.style.Styler at 0x1f321f47608>"
      ]
     },
     "execution_count": 3,
     "metadata": {},
     "output_type": "execute_result"
    }
   ],
   "source": [
    "#Run basic calculations to obtain number of unique items, average price, etc.\n",
    "\n",
    "#Unique Items\n",
    "unique_items_count = len(purchase_data[\"Item ID\"].value_counts())\n",
    "\n",
    "# Average Price\n",
    "avg_price=purchase_data[\"Price\"].mean()\n",
    "\n",
    "# Number of purchases\n",
    "total_purchase=purchase_data[\"Purchase ID\"].count()\n",
    "\n",
    "#Total Revenue\n",
    "tot_revenue=purchase_data[\"Price\"].sum()\n",
    "\n",
    "#Create a summary data frame to hold the results\n",
    "\n",
    "sales_summary_df=pd.DataFrame({\"Number of Unique Items\":[unique_items_count],\n",
    "                               \"Average Price\":[avg_price], \n",
    "                               \"Number of Purchases\":[total_purchase] ,\n",
    "                               \"Total Revenue\":[tot_revenue]\n",
    "                              })\n",
    "    \n",
    "#Optional: give the displayed data cleaner formatting\n",
    "sales_summary_df.style.format({\"Average Price\":\"${:,.2f}\",\n",
    "                         \"Total Revenue\": '${:,.2f}'})\n",
    "\n",
    "#Display the summary data frame\n"
   ]
  },
  {
   "cell_type": "code",
   "execution_count": 4,
   "metadata": {},
   "outputs": [
    {
     "data": {
      "text/html": [
       "<style  type=\"text/css\" >\n",
       "</style><table id=\"T_cd804b78_763b_11ea_8a66_7cb27dd0d832\" ><thead>    <tr>        <th class=\"blank level0\" ></th>        <th class=\"col_heading level0 col0\" >Total Count</th>        <th class=\"col_heading level0 col1\" >Percentage of Players</th>    </tr>    <tr>        <th class=\"index_name level0\" >Gender</th>        <th class=\"blank\" ></th>        <th class=\"blank\" ></th>    </tr></thead><tbody>\n",
       "                <tr>\n",
       "                        <th id=\"T_cd804b78_763b_11ea_8a66_7cb27dd0d832level0_row0\" class=\"row_heading level0 row0\" >Male</th>\n",
       "                        <td id=\"T_cd804b78_763b_11ea_8a66_7cb27dd0d832row0_col0\" class=\"data row0 col0\" >484</td>\n",
       "                        <td id=\"T_cd804b78_763b_11ea_8a66_7cb27dd0d832row0_col1\" class=\"data row0 col1\" >84.03</td>\n",
       "            </tr>\n",
       "            <tr>\n",
       "                        <th id=\"T_cd804b78_763b_11ea_8a66_7cb27dd0d832level0_row1\" class=\"row_heading level0 row1\" >Female</th>\n",
       "                        <td id=\"T_cd804b78_763b_11ea_8a66_7cb27dd0d832row1_col0\" class=\"data row1 col0\" >81</td>\n",
       "                        <td id=\"T_cd804b78_763b_11ea_8a66_7cb27dd0d832row1_col1\" class=\"data row1 col1\" >14.06</td>\n",
       "            </tr>\n",
       "            <tr>\n",
       "                        <th id=\"T_cd804b78_763b_11ea_8a66_7cb27dd0d832level0_row2\" class=\"row_heading level0 row2\" >Other / Non-Disclosed</th>\n",
       "                        <td id=\"T_cd804b78_763b_11ea_8a66_7cb27dd0d832row2_col0\" class=\"data row2 col0\" >11</td>\n",
       "                        <td id=\"T_cd804b78_763b_11ea_8a66_7cb27dd0d832row2_col1\" class=\"data row2 col1\" >1.91</td>\n",
       "            </tr>\n",
       "    </tbody></table>"
      ],
      "text/plain": [
       "<pandas.io.formats.style.Styler at 0x1f3264f4748>"
      ]
     },
     "execution_count": 4,
     "metadata": {},
     "output_type": "execute_result"
    }
   ],
   "source": [
    "#Percentage and Count of Male Players\n",
    "#Percentage and Count of Female Players\n",
    "#Percentage and Count of Other / Non-Disclosed\n",
    "\n",
    "#group by gender\n",
    "gender_group_df=purchase_data.groupby(\"Gender\")\n",
    "\n",
    "#count per group\n",
    "count_gender=gender_group_df[\"SN\"].nunique()\n",
    "\n",
    "#count_gender\n",
    "percentage_gender=(count_gender/players_count)*100\n",
    "\n",
    "#Gender Demographics\n",
    "gender_demographics_df=pd.DataFrame({\"Total Count\":count_gender, \"Percentage of Players\":percentage_gender})\n",
    "\n",
    "\n",
    "# Format the values sorted by total count in descending order, and two decimal places for the percentage\n",
    "gender_demographics_df.sort_values([\"Total Count\"], ascending = False).style.format({\"Percentage of Players\":\"{:.2f}\"})\n",
    "\n"
   ]
  },
  {
   "cell_type": "code",
   "execution_count": 5,
   "metadata": {},
   "outputs": [
    {
     "data": {
      "text/html": [
       "<style  type=\"text/css\" >\n",
       "</style><table id=\"T_cd82bc8a_763b_11ea_bfee_7cb27dd0d832\" ><thead>    <tr>        <th class=\"blank level0\" ></th>        <th class=\"col_heading level0 col0\" >Purchase Count</th>        <th class=\"col_heading level0 col1\" >Average Purchase Price</th>        <th class=\"col_heading level0 col2\" >Total Purchase Value</th>        <th class=\"col_heading level0 col3\" >Avg Total Purchase per Person</th>    </tr>    <tr>        <th class=\"index_name level0\" >Gender</th>        <th class=\"blank\" ></th>        <th class=\"blank\" ></th>        <th class=\"blank\" ></th>        <th class=\"blank\" ></th>    </tr></thead><tbody>\n",
       "                <tr>\n",
       "                        <th id=\"T_cd82bc8a_763b_11ea_bfee_7cb27dd0d832level0_row0\" class=\"row_heading level0 row0\" >Female</th>\n",
       "                        <td id=\"T_cd82bc8a_763b_11ea_bfee_7cb27dd0d832row0_col0\" class=\"data row0 col0\" >113</td>\n",
       "                        <td id=\"T_cd82bc8a_763b_11ea_bfee_7cb27dd0d832row0_col1\" class=\"data row0 col1\" >$3.20</td>\n",
       "                        <td id=\"T_cd82bc8a_763b_11ea_bfee_7cb27dd0d832row0_col2\" class=\"data row0 col2\" >$361.94</td>\n",
       "                        <td id=\"T_cd82bc8a_763b_11ea_bfee_7cb27dd0d832row0_col3\" class=\"data row0 col3\" >$4.47</td>\n",
       "            </tr>\n",
       "            <tr>\n",
       "                        <th id=\"T_cd82bc8a_763b_11ea_bfee_7cb27dd0d832level0_row1\" class=\"row_heading level0 row1\" >Male</th>\n",
       "                        <td id=\"T_cd82bc8a_763b_11ea_bfee_7cb27dd0d832row1_col0\" class=\"data row1 col0\" >652</td>\n",
       "                        <td id=\"T_cd82bc8a_763b_11ea_bfee_7cb27dd0d832row1_col1\" class=\"data row1 col1\" >$3.02</td>\n",
       "                        <td id=\"T_cd82bc8a_763b_11ea_bfee_7cb27dd0d832row1_col2\" class=\"data row1 col2\" >$1,967.64</td>\n",
       "                        <td id=\"T_cd82bc8a_763b_11ea_bfee_7cb27dd0d832row1_col3\" class=\"data row1 col3\" >$4.07</td>\n",
       "            </tr>\n",
       "            <tr>\n",
       "                        <th id=\"T_cd82bc8a_763b_11ea_bfee_7cb27dd0d832level0_row2\" class=\"row_heading level0 row2\" >Other / Non-Disclosed</th>\n",
       "                        <td id=\"T_cd82bc8a_763b_11ea_bfee_7cb27dd0d832row2_col0\" class=\"data row2 col0\" >15</td>\n",
       "                        <td id=\"T_cd82bc8a_763b_11ea_bfee_7cb27dd0d832row2_col1\" class=\"data row2 col1\" >$3.35</td>\n",
       "                        <td id=\"T_cd82bc8a_763b_11ea_bfee_7cb27dd0d832row2_col2\" class=\"data row2 col2\" >$50.19</td>\n",
       "                        <td id=\"T_cd82bc8a_763b_11ea_bfee_7cb27dd0d832row2_col3\" class=\"data row2 col3\" >$4.56</td>\n",
       "            </tr>\n",
       "    </tbody></table>"
      ],
      "text/plain": [
       "<pandas.io.formats.style.Styler at 0x1f325c5a688>"
      ]
     },
     "execution_count": 5,
     "metadata": {},
     "output_type": "execute_result"
    }
   ],
   "source": [
    "#Run basic calculations to obtain purchase count, avg. purchase price, avg. purchase total per person etc. by gender\n",
    "Purchase_Count=gender_group_df[\"Purchase ID\"].count()\n",
    "\n",
    "Average_Purchase_Price=gender_group_df[\"Price\"].mean()\n",
    "\n",
    "Total_Purchase_Value=gender_group_df[\"Price\"].sum()\n",
    "\n",
    "Avg_Total_Purchase_per_Person=Total_Purchase_Value/count_gender\n",
    "\n",
    "#Create a summary data frame to hold the results\n",
    "Purchasing_Analysis_df=pd.DataFrame({\"Purchase Count\":Purchase_Count, \"Average Purchase Price\":Average_Purchase_Price\n",
    "                                    ,\"Total Purchase Value\":Total_Purchase_Value, \"Avg Total Purchase per Person\":Avg_Total_Purchase_per_Person})\n",
    "\n",
    "#Optional: give the displayed data cleaner formatting\n",
    "Purchasing_Analysis_df.style.format({\"Average Purchase Price\":\"${:,.2f}\",\n",
    "                                  \"Total Purchase Value\":\"${:,.2f}\",\n",
    "                                  \"Avg Total Purchase per Person\":\"${:,.2f}\"})\n",
    "\n",
    "#Display the summary data frame\n",
    "\n"
   ]
  },
  {
   "cell_type": "code",
   "execution_count": 6,
   "metadata": {},
   "outputs": [
    {
     "data": {
      "text/html": [
       "<style  type=\"text/css\" >\n",
       "</style><table id=\"T_cd877774_763b_11ea_8d34_7cb27dd0d832\" ><thead>    <tr>        <th class=\"blank level0\" ></th>        <th class=\"col_heading level0 col0\" >Total Count</th>        <th class=\"col_heading level0 col1\" >Percentage of Players</th>    </tr>    <tr>        <th class=\"index_name level0\" >Age Group</th>        <th class=\"blank\" ></th>        <th class=\"blank\" ></th>    </tr></thead><tbody>\n",
       "                <tr>\n",
       "                        <th id=\"T_cd877774_763b_11ea_8d34_7cb27dd0d832level0_row0\" class=\"row_heading level0 row0\" ><10</th>\n",
       "                        <td id=\"T_cd877774_763b_11ea_8d34_7cb27dd0d832row0_col0\" class=\"data row0 col0\" >17</td>\n",
       "                        <td id=\"T_cd877774_763b_11ea_8d34_7cb27dd0d832row0_col1\" class=\"data row0 col1\" >2.95</td>\n",
       "            </tr>\n",
       "            <tr>\n",
       "                        <th id=\"T_cd877774_763b_11ea_8d34_7cb27dd0d832level0_row1\" class=\"row_heading level0 row1\" >10-14</th>\n",
       "                        <td id=\"T_cd877774_763b_11ea_8d34_7cb27dd0d832row1_col0\" class=\"data row1 col0\" >22</td>\n",
       "                        <td id=\"T_cd877774_763b_11ea_8d34_7cb27dd0d832row1_col1\" class=\"data row1 col1\" >3.82</td>\n",
       "            </tr>\n",
       "            <tr>\n",
       "                        <th id=\"T_cd877774_763b_11ea_8d34_7cb27dd0d832level0_row2\" class=\"row_heading level0 row2\" >15-19</th>\n",
       "                        <td id=\"T_cd877774_763b_11ea_8d34_7cb27dd0d832row2_col0\" class=\"data row2 col0\" >107</td>\n",
       "                        <td id=\"T_cd877774_763b_11ea_8d34_7cb27dd0d832row2_col1\" class=\"data row2 col1\" >18.58</td>\n",
       "            </tr>\n",
       "            <tr>\n",
       "                        <th id=\"T_cd877774_763b_11ea_8d34_7cb27dd0d832level0_row3\" class=\"row_heading level0 row3\" >20-24</th>\n",
       "                        <td id=\"T_cd877774_763b_11ea_8d34_7cb27dd0d832row3_col0\" class=\"data row3 col0\" >258</td>\n",
       "                        <td id=\"T_cd877774_763b_11ea_8d34_7cb27dd0d832row3_col1\" class=\"data row3 col1\" >44.79</td>\n",
       "            </tr>\n",
       "            <tr>\n",
       "                        <th id=\"T_cd877774_763b_11ea_8d34_7cb27dd0d832level0_row4\" class=\"row_heading level0 row4\" >25-29</th>\n",
       "                        <td id=\"T_cd877774_763b_11ea_8d34_7cb27dd0d832row4_col0\" class=\"data row4 col0\" >77</td>\n",
       "                        <td id=\"T_cd877774_763b_11ea_8d34_7cb27dd0d832row4_col1\" class=\"data row4 col1\" >13.37</td>\n",
       "            </tr>\n",
       "            <tr>\n",
       "                        <th id=\"T_cd877774_763b_11ea_8d34_7cb27dd0d832level0_row5\" class=\"row_heading level0 row5\" >30-34</th>\n",
       "                        <td id=\"T_cd877774_763b_11ea_8d34_7cb27dd0d832row5_col0\" class=\"data row5 col0\" >52</td>\n",
       "                        <td id=\"T_cd877774_763b_11ea_8d34_7cb27dd0d832row5_col1\" class=\"data row5 col1\" >9.03</td>\n",
       "            </tr>\n",
       "            <tr>\n",
       "                        <th id=\"T_cd877774_763b_11ea_8d34_7cb27dd0d832level0_row6\" class=\"row_heading level0 row6\" >35-39</th>\n",
       "                        <td id=\"T_cd877774_763b_11ea_8d34_7cb27dd0d832row6_col0\" class=\"data row6 col0\" >31</td>\n",
       "                        <td id=\"T_cd877774_763b_11ea_8d34_7cb27dd0d832row6_col1\" class=\"data row6 col1\" >5.38</td>\n",
       "            </tr>\n",
       "            <tr>\n",
       "                        <th id=\"T_cd877774_763b_11ea_8d34_7cb27dd0d832level0_row7\" class=\"row_heading level0 row7\" >40+</th>\n",
       "                        <td id=\"T_cd877774_763b_11ea_8d34_7cb27dd0d832row7_col0\" class=\"data row7 col0\" >12</td>\n",
       "                        <td id=\"T_cd877774_763b_11ea_8d34_7cb27dd0d832row7_col1\" class=\"data row7 col1\" >2.08</td>\n",
       "            </tr>\n",
       "    </tbody></table>"
      ],
      "text/plain": [
       "<pandas.io.formats.style.Styler at 0x1f325c61188>"
      ]
     },
     "execution_count": 6,
     "metadata": {},
     "output_type": "execute_result"
    }
   ],
   "source": [
    "#add lenth\n",
    "#Bin the purchase_data data frame by age\n",
    "age_bins=[0, 9.90, 14.90, 19.90, 24.90, 29.90, 34.90, 39.90, 99999]\n",
    "age_labels = [\"<10\", \"10-14\", \"15-19\", \"20-24\", \"25-29\", \"30-34\", \"35-39\", \"40+\"]\n",
    "\n",
    "#Run basic calculations to obtain purchase count, avg. purchase price, avg. purchase total per person etc. in the table below\n",
    "purchase_data[\"Age Group\"] = pd.cut(purchase_data[\"Age\"],age_bins, labels=age_labels)\n",
    "#purchase_data\n",
    "\n",
    "#Create a summary data frame to hold the results\n",
    "age_grouped_df = purchase_data.groupby(\"Age Group\")\n",
    "Total_Count_by_age=age_grouped_df[\"SN\"].nunique()\n",
    "Percentage_of_Players=(Total_Count_by_age/players_count) * 100\n",
    "Age_Demographics_df=pd.DataFrame({\"Total Count\": Total_Count_by_age,\"Percentage of Players\": Percentage_of_Players})\n",
    "\n",
    "#Optional: give the displayed data cleaner formatting\n",
    "Age_Demographics_df.style.format({\"Percentage of Players\":\"{:,.2f}\"})\n",
    "\n",
    "#Display the summary data frame\n"
   ]
  },
  {
   "cell_type": "code",
   "execution_count": 7,
   "metadata": {},
   "outputs": [
    {
     "data": {
      "text/html": [
       "<style  type=\"text/css\" >\n",
       "</style><table id=\"T_cd8b20ee_763b_11ea_a528_7cb27dd0d832\" ><thead>    <tr>        <th class=\"blank level0\" ></th>        <th class=\"col_heading level0 col0\" >Purchase Count</th>        <th class=\"col_heading level0 col1\" >Average Purchase Price</th>        <th class=\"col_heading level0 col2\" >Total Purchase Value</th>        <th class=\"col_heading level0 col3\" >Avg Total Purchase per Person</th>    </tr>    <tr>        <th class=\"index_name level0\" >Age Group</th>        <th class=\"blank\" ></th>        <th class=\"blank\" ></th>        <th class=\"blank\" ></th>        <th class=\"blank\" ></th>    </tr></thead><tbody>\n",
       "                <tr>\n",
       "                        <th id=\"T_cd8b20ee_763b_11ea_a528_7cb27dd0d832level0_row0\" class=\"row_heading level0 row0\" ><10</th>\n",
       "                        <td id=\"T_cd8b20ee_763b_11ea_a528_7cb27dd0d832row0_col0\" class=\"data row0 col0\" >23</td>\n",
       "                        <td id=\"T_cd8b20ee_763b_11ea_a528_7cb27dd0d832row0_col1\" class=\"data row0 col1\" >$3.35</td>\n",
       "                        <td id=\"T_cd8b20ee_763b_11ea_a528_7cb27dd0d832row0_col2\" class=\"data row0 col2\" >$77.13</td>\n",
       "                        <td id=\"T_cd8b20ee_763b_11ea_a528_7cb27dd0d832row0_col3\" class=\"data row0 col3\" >$4.54</td>\n",
       "            </tr>\n",
       "            <tr>\n",
       "                        <th id=\"T_cd8b20ee_763b_11ea_a528_7cb27dd0d832level0_row1\" class=\"row_heading level0 row1\" >10-14</th>\n",
       "                        <td id=\"T_cd8b20ee_763b_11ea_a528_7cb27dd0d832row1_col0\" class=\"data row1 col0\" >28</td>\n",
       "                        <td id=\"T_cd8b20ee_763b_11ea_a528_7cb27dd0d832row1_col1\" class=\"data row1 col1\" >$2.96</td>\n",
       "                        <td id=\"T_cd8b20ee_763b_11ea_a528_7cb27dd0d832row1_col2\" class=\"data row1 col2\" >$82.78</td>\n",
       "                        <td id=\"T_cd8b20ee_763b_11ea_a528_7cb27dd0d832row1_col3\" class=\"data row1 col3\" >$3.76</td>\n",
       "            </tr>\n",
       "            <tr>\n",
       "                        <th id=\"T_cd8b20ee_763b_11ea_a528_7cb27dd0d832level0_row2\" class=\"row_heading level0 row2\" >15-19</th>\n",
       "                        <td id=\"T_cd8b20ee_763b_11ea_a528_7cb27dd0d832row2_col0\" class=\"data row2 col0\" >136</td>\n",
       "                        <td id=\"T_cd8b20ee_763b_11ea_a528_7cb27dd0d832row2_col1\" class=\"data row2 col1\" >$3.04</td>\n",
       "                        <td id=\"T_cd8b20ee_763b_11ea_a528_7cb27dd0d832row2_col2\" class=\"data row2 col2\" >$412.89</td>\n",
       "                        <td id=\"T_cd8b20ee_763b_11ea_a528_7cb27dd0d832row2_col3\" class=\"data row2 col3\" >$3.86</td>\n",
       "            </tr>\n",
       "            <tr>\n",
       "                        <th id=\"T_cd8b20ee_763b_11ea_a528_7cb27dd0d832level0_row3\" class=\"row_heading level0 row3\" >20-24</th>\n",
       "                        <td id=\"T_cd8b20ee_763b_11ea_a528_7cb27dd0d832row3_col0\" class=\"data row3 col0\" >365</td>\n",
       "                        <td id=\"T_cd8b20ee_763b_11ea_a528_7cb27dd0d832row3_col1\" class=\"data row3 col1\" >$3.05</td>\n",
       "                        <td id=\"T_cd8b20ee_763b_11ea_a528_7cb27dd0d832row3_col2\" class=\"data row3 col2\" >$1,114.06</td>\n",
       "                        <td id=\"T_cd8b20ee_763b_11ea_a528_7cb27dd0d832row3_col3\" class=\"data row3 col3\" >$4.32</td>\n",
       "            </tr>\n",
       "            <tr>\n",
       "                        <th id=\"T_cd8b20ee_763b_11ea_a528_7cb27dd0d832level0_row4\" class=\"row_heading level0 row4\" >25-29</th>\n",
       "                        <td id=\"T_cd8b20ee_763b_11ea_a528_7cb27dd0d832row4_col0\" class=\"data row4 col0\" >101</td>\n",
       "                        <td id=\"T_cd8b20ee_763b_11ea_a528_7cb27dd0d832row4_col1\" class=\"data row4 col1\" >$2.90</td>\n",
       "                        <td id=\"T_cd8b20ee_763b_11ea_a528_7cb27dd0d832row4_col2\" class=\"data row4 col2\" >$293.00</td>\n",
       "                        <td id=\"T_cd8b20ee_763b_11ea_a528_7cb27dd0d832row4_col3\" class=\"data row4 col3\" >$3.81</td>\n",
       "            </tr>\n",
       "            <tr>\n",
       "                        <th id=\"T_cd8b20ee_763b_11ea_a528_7cb27dd0d832level0_row5\" class=\"row_heading level0 row5\" >30-34</th>\n",
       "                        <td id=\"T_cd8b20ee_763b_11ea_a528_7cb27dd0d832row5_col0\" class=\"data row5 col0\" >73</td>\n",
       "                        <td id=\"T_cd8b20ee_763b_11ea_a528_7cb27dd0d832row5_col1\" class=\"data row5 col1\" >$2.93</td>\n",
       "                        <td id=\"T_cd8b20ee_763b_11ea_a528_7cb27dd0d832row5_col2\" class=\"data row5 col2\" >$214.00</td>\n",
       "                        <td id=\"T_cd8b20ee_763b_11ea_a528_7cb27dd0d832row5_col3\" class=\"data row5 col3\" >$4.12</td>\n",
       "            </tr>\n",
       "            <tr>\n",
       "                        <th id=\"T_cd8b20ee_763b_11ea_a528_7cb27dd0d832level0_row6\" class=\"row_heading level0 row6\" >35-39</th>\n",
       "                        <td id=\"T_cd8b20ee_763b_11ea_a528_7cb27dd0d832row6_col0\" class=\"data row6 col0\" >41</td>\n",
       "                        <td id=\"T_cd8b20ee_763b_11ea_a528_7cb27dd0d832row6_col1\" class=\"data row6 col1\" >$3.60</td>\n",
       "                        <td id=\"T_cd8b20ee_763b_11ea_a528_7cb27dd0d832row6_col2\" class=\"data row6 col2\" >$147.67</td>\n",
       "                        <td id=\"T_cd8b20ee_763b_11ea_a528_7cb27dd0d832row6_col3\" class=\"data row6 col3\" >$4.76</td>\n",
       "            </tr>\n",
       "            <tr>\n",
       "                        <th id=\"T_cd8b20ee_763b_11ea_a528_7cb27dd0d832level0_row7\" class=\"row_heading level0 row7\" >40+</th>\n",
       "                        <td id=\"T_cd8b20ee_763b_11ea_a528_7cb27dd0d832row7_col0\" class=\"data row7 col0\" >13</td>\n",
       "                        <td id=\"T_cd8b20ee_763b_11ea_a528_7cb27dd0d832row7_col1\" class=\"data row7 col1\" >$2.94</td>\n",
       "                        <td id=\"T_cd8b20ee_763b_11ea_a528_7cb27dd0d832row7_col2\" class=\"data row7 col2\" >$38.24</td>\n",
       "                        <td id=\"T_cd8b20ee_763b_11ea_a528_7cb27dd0d832row7_col3\" class=\"data row7 col3\" >$3.19</td>\n",
       "            </tr>\n",
       "    </tbody></table>"
      ],
      "text/plain": [
       "<pandas.io.formats.style.Styler at 0x1f326423a08>"
      ]
     },
     "execution_count": 7,
     "metadata": {},
     "output_type": "execute_result"
    }
   ],
   "source": [
    "#Bin the purchase_data data frame by age\n",
    "\n",
    "\n",
    "#Run basic calculations to obtain purchase count, avg. purchase price, avg. purchase total per person etc. in the table below\n",
    "Purchase_Count= age_grouped_df[\"Purchase ID\"].count()\n",
    "\n",
    "# Obtain average purchase price by age group \n",
    "Average_Purchase_Price = age_grouped_df[\"Price\"].mean()\n",
    "\n",
    "# Calculate total purchase value by age group \n",
    "Total_Purchase_Value = age_grouped_df[\"Price\"].sum()\n",
    "\n",
    "# Calculate the average purchase per person in the age group \n",
    "Avg_Total_Purchase_per_Person= Total_Purchase_Value/Total_Count_by_age\n",
    "\n",
    "\n",
    "#Create a summary data frame to hold the results\n",
    "Purchasing_Analysis_by_Age_df = pd.DataFrame({\"Purchase Count\": Purchase_Count,\n",
    "                                 \"Average Purchase Price\": Average_Purchase_Price,\n",
    "                                 \"Total Purchase Value\":Total_Purchase_Value,\n",
    "                                 \"Avg Total Purchase per Person\": Avg_Total_Purchase_per_Person})\n",
    "\n",
    "\n",
    "#Optional: give the displayed data cleaner formatting\n",
    "Purchasing_Analysis_by_Age_df.style.format({\"Average Purchase Price\":\"${:,.2f}\",\n",
    "                               \"Total Purchase Value\":\"${:,.2f}\",\n",
    "                               \"Avg Total Purchase per Person\":\"${:,.2f}\"})\n",
    "\n",
    "\n",
    "#Display the summary data frame\n"
   ]
  },
  {
   "cell_type": "code",
   "execution_count": null,
   "metadata": {},
   "outputs": [],
   "source": []
  }
 ],
 "metadata": {
  "kernelspec": {
   "display_name": "Python 3",
   "language": "python",
   "name": "python3"
  },
  "language_info": {
   "codemirror_mode": {
    "name": "ipython",
    "version": 3
   },
   "file_extension": ".py",
   "mimetype": "text/x-python",
   "name": "python",
   "nbconvert_exporter": "python",
   "pygments_lexer": "ipython3",
   "version": "3.7.4"
  }
 },
 "nbformat": 4,
 "nbformat_minor": 2
}
